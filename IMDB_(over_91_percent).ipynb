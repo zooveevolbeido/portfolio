{
  "nbformat": 4,
  "nbformat_minor": 0,
  "metadata": {
    "colab": {
      "provenance": [],
      "authorship_tag": "ABX9TyOD+3zWWzA4q/V+sjJ/eqK+",
      "include_colab_link": true
    },
    "kernelspec": {
      "name": "python3",
      "display_name": "Python 3"
    },
    "language_info": {
      "name": "python"
    },
    "gpuClass": "standard"
  },
  "cells": [
    {
      "cell_type": "markdown",
      "metadata": {
        "id": "view-in-github",
        "colab_type": "text"
      },
      "source": [
        "<a href=\"https://colab.research.google.com/github/zooveevolbeido/portfolio/blob/main/IMDB_(over_91_percent).ipynb\" target=\"_parent\"><img src=\"https://colab.research.google.com/assets/colab-badge.svg\" alt=\"Open In Colab\"/></a>"
      ]
    },
    {
      "cell_type": "code",
      "execution_count": null,
      "metadata": {
        "id": "eoX-5tus19cF"
      },
      "outputs": [],
      "source": [
        "import numpy as np\n",
        "import tensorflow_datasets as tfds\n",
        "import tensorflow as tf\n",
        "from keras.utils import to_categorical\n",
        "from keras.datasets import imdb\n",
        "import numpy as np\n",
        "from sklearn.model_selection import train_test_split\n",
        "import pandas as pd\n",
        "\n",
        "import nltk\n",
        "from sklearn.preprocessing import StandardScaler, LabelEncoder\n",
        "from sklearn.discriminant_analysis import LinearDiscriminantAnalysis\n",
        "import math\n",
        "from nltk.tokenize import word_tokenize\n"
      ]
    },
    {
      "cell_type": "code",
      "source": [
        "n_vocab = 80000\n",
        "(train_data, train_labels), (test_data, test_labels) = imdb.load_data(num_words=n_vocab)\n",
        "\n",
        "word_index = imdb.get_word_index()\n",
        "reverse_word_index = dict([(value, key) for (key, value) in word_index.items()])\n",
        "decoded_review = ' '.join([reverse_word_index.get(i - 3, '?') for i in train_data[0]])\n",
        "\n",
        "print(decoded_review)"
      ],
      "metadata": {
        "colab": {
          "base_uri": "https://localhost:8080/"
        },
        "id": "6DBSEIyH2XT3",
        "outputId": "6a25e268-60a0-4975-ce8e-143dca698a49"
      },
      "execution_count": null,
      "outputs": [
        {
          "output_type": "stream",
          "name": "stdout",
          "text": [
            "? this film was just brilliant casting location scenery story direction everyone's really suited the part they played and you could just imagine being there robert redford's is an amazing actor and now the same being director norman's father came from the same scottish island as myself so i loved the fact there was a real connection with this film the witty remarks throughout the film were great it was just brilliant so much that i bought the film as soon as it was released for retail and would recommend it to everyone to watch and the fly fishing was amazing really cried at the end it was so sad and you know what they say if you cry at a film it must have been good and this definitely was also congratulations to the two little boy's that played the part's of norman and paul they were just brilliant children are often left out of the praising list i think because the stars that play them all grown up are such a big profile for the whole film but these children are amazing and should be praised for what they have done don't you think the whole story was so lovely because it was true and was someone's life after all that was shared with us all\n"
          ]
        }
      ]
    },
    {
      "cell_type": "code",
      "source": [
        "X = np.concatenate( (train_data, test_data) , axis=0    )\n",
        "y = np.concatenate( (train_labels, test_labels), axis=0     )"
      ],
      "metadata": {
        "id": "YHE_pE0933ER"
      },
      "execution_count": null,
      "outputs": []
    },
    {
      "cell_type": "code",
      "source": [
        "X.shape, y.shape"
      ],
      "metadata": {
        "colab": {
          "base_uri": "https://localhost:8080/"
        },
        "id": "oNOstmPa389J",
        "outputId": "6b84aff9-ea7c-49be-956f-984e1ea29edf"
      },
      "execution_count": null,
      "outputs": [
        {
          "output_type": "execute_result",
          "data": {
            "text/plain": [
              "((50000,), (50000,))"
            ]
          },
          "metadata": {},
          "execution_count": 41
        }
      ]
    },
    {
      "cell_type": "code",
      "source": [
        "def vectorize_sequences(X, dimension=n_vocab):\n",
        "  results = np.zeros( [len(X), dimension]      )\n",
        "  for i in range(len(X)):\n",
        "    for j in range(len(X[i])):\n",
        "      results[i][ X[i][j] ] += 1\n",
        "  return results"
      ],
      "metadata": {
        "id": "oY4MG-kh4CVe"
      },
      "execution_count": null,
      "outputs": []
    },
    {
      "cell_type": "code",
      "source": [
        "X_train, X_test, y_train, y_test = train_test_split(X, y, test_size=0.2, random_state=55)"
      ],
      "metadata": {
        "id": "y6n8o_c84Qzw"
      },
      "execution_count": null,
      "outputs": []
    },
    {
      "cell_type": "code",
      "source": [
        "X_train.shape, X_test.shape"
      ],
      "metadata": {
        "colab": {
          "base_uri": "https://localhost:8080/"
        },
        "id": "7XAvdGrK4ZpH",
        "outputId": "43a31d4a-5276-4970-f99c-e58a917e34c0"
      },
      "execution_count": null,
      "outputs": [
        {
          "output_type": "execute_result",
          "data": {
            "text/plain": [
              "((40000,), (10000,))"
            ]
          },
          "metadata": {},
          "execution_count": 44
        }
      ]
    },
    {
      "cell_type": "code",
      "source": [
        "'''\n",
        "vs_X_train = vectorize_sequences(X_train)\n",
        "vs_X_test = vectorize_sequences(X_test)\n",
        "'''"
      ],
      "metadata": {
        "colab": {
          "base_uri": "https://localhost:8080/",
          "height": 35
        },
        "id": "UdzzFyUL4l0C",
        "outputId": "7385f706-9ced-45f4-b76b-06d6046fe3b1"
      },
      "execution_count": null,
      "outputs": [
        {
          "output_type": "execute_result",
          "data": {
            "text/plain": [
              "'\\nvs_X_train = vectorize_sequences(X_train)\\nvs_X_test = vectorize_sequences(X_test)\\n'"
            ],
            "application/vnd.google.colaboratory.intrinsic+json": {
              "type": "string"
            }
          },
          "metadata": {},
          "execution_count": 45
        }
      ]
    },
    {
      "cell_type": "code",
      "source": [
        "#vs_X_train.shape, vs_X_test.shape"
      ],
      "metadata": {
        "id": "FJW32P7442Pg"
      },
      "execution_count": null,
      "outputs": []
    },
    {
      "cell_type": "code",
      "source": [
        "from keras import backend as K\n",
        "from keras.layers.core import Activation\n",
        "from keras.utils.generic_utils import get_custom_objects\n",
        "\n",
        "### Note! You cannot use random python functions, activation function gets as an input tensorflow tensors and should return tensors. There are a lot of helper functions in keras backend.\n",
        "def custom_activation(x):\n",
        "\n",
        "  #x = tf.math.reduce_max(x, 0)\n",
        "  #return (K.sigmoid(x) * 5) - 1\n",
        "  return  K.relu(x) + K.sigmoid(x)\n",
        "\n",
        "\n",
        "get_custom_objects().update({'custom_activation': Activation(custom_activation)})"
      ],
      "metadata": {
        "id": "de8_gFfo4_z4"
      },
      "execution_count": null,
      "outputs": []
    },
    {
      "cell_type": "code",
      "source": [
        "'''\n",
        "\n",
        "from tensorflow.keras import regularizers\n",
        "\n",
        "\n",
        "vs_model = tf.keras.Sequential()\n",
        "\n",
        "\n",
        "\n",
        "vs_model.add(tf.keras.layers.Dense(512, activation='custom_activation', input_shape=( len(vs_X_train[0]), ) )    )\n",
        "#model.add(tf.keras.layers.Dense(512, activation='custom_activation'      ) )\n",
        "#model.add(tf.keras.layers.BatchNormalization())\n",
        "#model.add(tf.keras.layers.LayerNormalization())\n",
        "vs_model.add(tf.keras.layers.Dropout(0.4))\n",
        "\n",
        "\n",
        "vs_model.add(tf.keras.layers.Dense(256, activation='custom_activation'     ))\n",
        "#model.add(tf.keras.layers.BatchNormalization())\n",
        "#model.add(tf.keras.layers.LayerNormalization())\n",
        "vs_model.add(tf.keras.layers.Dropout(0.3))\n",
        "\n",
        "\n",
        "\n",
        "vs_model.add(tf.keras.layers.Dense(128, activation='custom_activation'     ))\n",
        "#model.add(tf.keras.layers.BatchNormalization())\n",
        "#model.add(tf.keras.layers.LayerNormalization())\n",
        "vs_model.add(tf.keras.layers.Dropout(0.2))\n",
        "\n",
        "\n",
        "\n",
        "vs_model.add(tf.keras.layers.Dense(1, activation='sigmoid'))\n",
        "\n",
        "\n",
        "vs_model.summary()\n",
        "'''\n"
      ],
      "metadata": {
        "colab": {
          "base_uri": "https://localhost:8080/",
          "height": 139
        },
        "id": "nwqJ27qJ5Lb7",
        "outputId": "732abe7f-f961-4ff2-98e2-7a7b59411099"
      },
      "execution_count": null,
      "outputs": [
        {
          "output_type": "execute_result",
          "data": {
            "text/plain": [
              "\"\\n\\nfrom tensorflow.keras import regularizers\\n\\n\\nvs_model = tf.keras.Sequential()\\n\\n\\n\\nvs_model.add(tf.keras.layers.Dense(512, activation='custom_activation', input_shape=( len(vs_X_train[0]), ) )    )\\n#model.add(tf.keras.layers.Dense(512, activation='custom_activation'      ) )   \\n#model.add(tf.keras.layers.BatchNormalization())\\n#model.add(tf.keras.layers.LayerNormalization())\\nvs_model.add(tf.keras.layers.Dropout(0.4))\\n\\n\\nvs_model.add(tf.keras.layers.Dense(256, activation='custom_activation'     ))\\n#model.add(tf.keras.layers.BatchNormalization())\\n#model.add(tf.keras.layers.LayerNormalization())\\nvs_model.add(tf.keras.layers.Dropout(0.3))\\n\\n\\n\\nvs_model.add(tf.keras.layers.Dense(128, activation='custom_activation'     ))\\n#model.add(tf.keras.layers.BatchNormalization())\\n#model.add(tf.keras.layers.LayerNormalization())\\nvs_model.add(tf.keras.layers.Dropout(0.2))\\n\\n\\n\\nvs_model.add(tf.keras.layers.Dense(1, activation='sigmoid'))\\n\\n\\nvs_model.summary()\\n\""
            ],
            "application/vnd.google.colaboratory.intrinsic+json": {
              "type": "string"
            }
          },
          "metadata": {},
          "execution_count": 48
        }
      ]
    },
    {
      "cell_type": "code",
      "source": [
        "'''\n",
        "\n",
        "vs_model.compile(loss='binary_crossentropy', optimizer='adam', metrics=['accuracy'])\n",
        "htr = vs_model.fit(vs_X_train, y_train, epochs=1, batch_size=64 ,validation_data=(vs_X_test, y_test))\n",
        "\n",
        "'''\n"
      ],
      "metadata": {
        "colab": {
          "base_uri": "https://localhost:8080/",
          "height": 52
        },
        "id": "ED6Pnjue5m3s",
        "outputId": "b0ac7b69-8473-4ddd-9c5a-fd8460aa45b5"
      },
      "execution_count": null,
      "outputs": [
        {
          "output_type": "execute_result",
          "data": {
            "text/plain": [
              "\"\\n\\nvs_model.compile(loss='binary_crossentropy', optimizer='adam', metrics=['accuracy'])\\nhtr = vs_model.fit(vs_X_train, y_train, epochs=1, batch_size=64 ,validation_data=(vs_X_test, y_test))\\n\\n\""
            ],
            "application/vnd.google.colaboratory.intrinsic+json": {
              "type": "string"
            }
          },
          "metadata": {},
          "execution_count": 49
        }
      ]
    },
    {
      "cell_type": "code",
      "source": [
        "#vs_pred = vs_model.predict(vs_X_test)"
      ],
      "metadata": {
        "id": "_a5S95Ef6MsX"
      },
      "execution_count": null,
      "outputs": []
    },
    {
      "cell_type": "code",
      "source": [
        "#vs_pred[:10]"
      ],
      "metadata": {
        "id": "Vg1j0K9t68FL"
      },
      "execution_count": null,
      "outputs": []
    },
    {
      "cell_type": "code",
      "source": [],
      "metadata": {
        "id": "SpD5Ll1J7BRx"
      },
      "execution_count": null,
      "outputs": []
    },
    {
      "cell_type": "code",
      "source": [
        "from tensorflow.keras.preprocessing.sequence import pad_sequences\n",
        "\n",
        "\n",
        "max_length = 1900\n",
        "\n",
        "padded_X_train = pad_sequences(X_train, padding='post', maxlen=max_length)\n",
        "\n",
        "print(padded_X_train.shape)"
      ],
      "metadata": {
        "colab": {
          "base_uri": "https://localhost:8080/"
        },
        "id": "KU6cZOQv7Bjr",
        "outputId": "3456856b-884f-4d19-99d7-11fe9cd048ec"
      },
      "execution_count": null,
      "outputs": [
        {
          "output_type": "stream",
          "name": "stdout",
          "text": [
            "(40000, 1900)\n"
          ]
        }
      ]
    },
    {
      "cell_type": "code",
      "source": [
        "padded_X_test = pad_sequences(X_test, padding='post', maxlen=max_length)\n",
        "\n",
        "print(padded_X_test.shape)"
      ],
      "metadata": {
        "colab": {
          "base_uri": "https://localhost:8080/"
        },
        "id": "o9GeeZDR7SX2",
        "outputId": "be8ecd0e-d546-4755-b5bd-1149ee7d7fd2"
      },
      "execution_count": null,
      "outputs": [
        {
          "output_type": "stream",
          "name": "stdout",
          "text": [
            "(10000, 1900)\n"
          ]
        }
      ]
    },
    {
      "cell_type": "code",
      "source": [
        "\n",
        "\n",
        "\n",
        "from keras import models\n",
        "from keras import layers\n",
        "\n",
        "emb_model = models.Sequential()\n",
        "# Input - Layer\n",
        "emb_model.add(layers.Embedding(n_vocab, 512, input_length=max_length ) )\n",
        "\n",
        "emb_model.add(layers.GlobalMaxPool1D())\n",
        "#model.add(layers.Flatten())\n",
        "\n",
        "#model.add(layers.Bidirectional(tf.keras.layers.LSTM(64))  )\n",
        "\n",
        "\n",
        "#model.add(layers.Dense(64, activation = \"custom_activation\", input_shape=(5000, )))\n",
        "# Hidden - Layers\n",
        "#model.add(layers.LayerNormalization())\n",
        "emb_model.add(layers.Dropout(0.35))\n",
        "\n",
        "\n",
        "\n",
        "\n",
        "emb_model.add(layers.Dense(512, activation = \"custom_activation\"))\n",
        "#model.add(layers.BatchNormalization())\n",
        "#emb_model.add(layers.BatchNormalization())\n",
        "emb_model.add(layers.Dropout(0.3))\n",
        "\n",
        "\n",
        "\n",
        "\n",
        "emb_model.add(layers.Dense(256, activation = \"custom_activation\"))\n",
        "#model.add(layers.BatchNormalization())\n",
        "#emb_model.add(layers.BatchNormalization())\n",
        "emb_model.add(layers.Dropout(0.25))\n",
        "\n",
        "\n",
        "\n",
        "\n",
        "emb_model.add(layers.Dense(128, activation = \"custom_activation\"))\n",
        "#model.add(layers.BatchNormalization())\n",
        "#emb_model.add(layers.BatchNormalization())\n",
        "emb_model.add(layers.Dropout(0.15))\n",
        "\n",
        "\n",
        "# Output- Layer\n",
        "emb_model.add(layers.Dense(1, activation = \"sigmoid\"))\n",
        "emb_model.summary()\n",
        "\n",
        "\n",
        "\n"
      ],
      "metadata": {
        "colab": {
          "base_uri": "https://localhost:8080/"
        },
        "id": "h_MaML927gzg",
        "outputId": "eeb629e5-c638-48b6-cbde-79bb2af03be3"
      },
      "execution_count": null,
      "outputs": [
        {
          "output_type": "stream",
          "name": "stdout",
          "text": [
            "Model: \"sequential_4\"\n",
            "_________________________________________________________________\n",
            " Layer (type)                Output Shape              Param #   \n",
            "=================================================================\n",
            " embedding_4 (Embedding)     (None, 1900, 512)         40960000  \n",
            "                                                                 \n",
            " global_max_pooling1d_4 (Glo  (None, 512)              0         \n",
            " balMaxPooling1D)                                                \n",
            "                                                                 \n",
            " dropout_4 (Dropout)         (None, 512)               0         \n",
            "                                                                 \n",
            " dense_10 (Dense)            (None, 512)               262656    \n",
            "                                                                 \n",
            " dropout_5 (Dropout)         (None, 512)               0         \n",
            "                                                                 \n",
            " dense_11 (Dense)            (None, 256)               131328    \n",
            "                                                                 \n",
            " dropout_6 (Dropout)         (None, 256)               0         \n",
            "                                                                 \n",
            " dense_12 (Dense)            (None, 128)               32896     \n",
            "                                                                 \n",
            " dropout_7 (Dropout)         (None, 128)               0         \n",
            "                                                                 \n",
            " dense_13 (Dense)            (None, 1)                 129       \n",
            "                                                                 \n",
            "=================================================================\n",
            "Total params: 41,387,009\n",
            "Trainable params: 41,387,009\n",
            "Non-trainable params: 0\n",
            "_________________________________________________________________\n"
          ]
        }
      ]
    },
    {
      "cell_type": "code",
      "source": [
        "emb_model.compile(loss=tf.keras.losses.BinaryCrossentropy(),\n",
        "              optimizer=tf.keras.optimizers.Adam(0.001),\n",
        "              metrics=['accuracy'])"
      ],
      "metadata": {
        "id": "XWudLD_AiyxD"
      },
      "execution_count": null,
      "outputs": []
    },
    {
      "cell_type": "code",
      "source": [
        "history =  emb_model.fit(\n",
        " padded_X_train, y_train,\n",
        " epochs= 4,\n",
        " batch_size = 64,\n",
        " validation_data = (padded_X_test, y_test)\n",
        ")"
      ],
      "metadata": {
        "colab": {
          "base_uri": "https://localhost:8080/"
        },
        "id": "8p0S6PskizDV",
        "outputId": "f6a80d1a-8066-4778-f29a-e72f717ac6eb"
      },
      "execution_count": null,
      "outputs": [
        {
          "output_type": "stream",
          "name": "stdout",
          "text": [
            "Epoch 1/3\n",
            "625/625 [==============================] - 27s 43ms/step - loss: 0.5145 - accuracy: 0.7082 - val_loss: 0.2927 - val_accuracy: 0.8825\n",
            "Epoch 2/3\n",
            "625/625 [==============================] - 26s 41ms/step - loss: 0.2776 - accuracy: 0.8866 - val_loss: 0.2610 - val_accuracy: 0.8927\n",
            "Epoch 3/3\n",
            "625/625 [==============================] - 26s 42ms/step - loss: 0.2065 - accuracy: 0.9184 - val_loss: 0.2485 - val_accuracy: 0.9001\n"
          ]
        }
      ]
    },
    {
      "cell_type": "code",
      "source": [
        "emb_pred = emb_model.predict(padded_X_test)"
      ],
      "metadata": {
        "colab": {
          "base_uri": "https://localhost:8080/"
        },
        "id": "VzaZ7rx4izZS",
        "outputId": "5b45b0b1-34d7-46ee-b78c-b26bfd177366"
      },
      "execution_count": null,
      "outputs": [
        {
          "output_type": "stream",
          "name": "stdout",
          "text": [
            "313/313 [==============================] - 1s 3ms/step\n"
          ]
        }
      ]
    },
    {
      "cell_type": "code",
      "source": [],
      "metadata": {
        "id": "aHQGMeOsjUsY"
      },
      "execution_count": null,
      "outputs": []
    },
    {
      "cell_type": "code",
      "source": [
        "from keras import layers #Dense, Dropout, Activation, Convolution1D, GlobalMaxPooling1D, Embedding\n",
        "from keras import models\n",
        "\n",
        "\n",
        "\n",
        "###################################################\n",
        "\n",
        "cnn_model = models.Sequential()\n",
        "\n",
        "cnn_model.add(layers.Embedding(n_vocab, 300, input_length= max_length )  )\n",
        "\n",
        "#cnn_model.add(layers.Dropout(0.4))\n",
        "\n",
        "cnn_model.add(\n",
        "    layers.Convolution1D(\n",
        "        filters=250,\n",
        "        kernel_size=3,\n",
        "        padding='valid',\n",
        "        activation='relu',\n",
        "        #subsample_length=1,\n",
        "        strides=1\n",
        "    )\n",
        ")\n",
        "\n",
        "\n",
        "\n",
        "cnn_model.add(layers.GlobalMaxPooling1D())\n",
        "\n",
        "\n",
        "cnn_model.add(layers.Dense(256, activation='relu'  ))\n",
        "\n",
        "#cnn_model.add(layers.Dropout(0.2))\n",
        "\n",
        "\n",
        "\n",
        "\n",
        "cnn_model.add(layers.Dense(1))\n",
        "cnn_model.add(Activation('sigmoid'))\n",
        "\n",
        "cnn_model.summary()\n",
        "\n",
        "\n"
      ],
      "metadata": {
        "colab": {
          "base_uri": "https://localhost:8080/"
        },
        "id": "4F2JB_4FMQB4",
        "outputId": "b3eb8fdc-054b-4ff9-d623-5b878403fafe"
      },
      "execution_count": null,
      "outputs": [
        {
          "output_type": "stream",
          "name": "stdout",
          "text": [
            "Model: \"sequential_5\"\n",
            "_________________________________________________________________\n",
            " Layer (type)                Output Shape              Param #   \n",
            "=================================================================\n",
            " embedding_5 (Embedding)     (None, 1900, 300)         24000000  \n",
            "                                                                 \n",
            " conv1d_2 (Conv1D)           (None, 1898, 250)         225250    \n",
            "                                                                 \n",
            " global_max_pooling1d_5 (Glo  (None, 250)              0         \n",
            " balMaxPooling1D)                                                \n",
            "                                                                 \n",
            " dense_14 (Dense)            (None, 256)               64256     \n",
            "                                                                 \n",
            " dense_15 (Dense)            (None, 1)                 257       \n",
            "                                                                 \n",
            " activation_5 (Activation)   (None, 1)                 0         \n",
            "                                                                 \n",
            "=================================================================\n",
            "Total params: 24,289,763\n",
            "Trainable params: 24,289,763\n",
            "Non-trainable params: 0\n",
            "_________________________________________________________________\n"
          ]
        }
      ]
    },
    {
      "cell_type": "code",
      "source": [
        "cnn_model.compile(loss=tf.keras.losses.BinaryCrossentropy(),\n",
        "              optimizer=tf.keras.optimizers.Adam(0.001),\n",
        "              metrics=['accuracy'])"
      ],
      "metadata": {
        "id": "aGabvI7I8dR1"
      },
      "execution_count": null,
      "outputs": []
    },
    {
      "cell_type": "code",
      "source": [
        "history =  cnn_model.fit(\n",
        " padded_X_train, y_train,\n",
        " epochs= 2,\n",
        " batch_size = 64,\n",
        " validation_data = (padded_X_test, y_test)\n",
        ")"
      ],
      "metadata": {
        "colab": {
          "base_uri": "https://localhost:8080/"
        },
        "id": "QuqGOaYf8h13",
        "outputId": "e3b1dc91-161a-4777-ebb1-9d56be1d2d62"
      },
      "execution_count": null,
      "outputs": [
        {
          "output_type": "stream",
          "name": "stdout",
          "text": [
            "Epoch 1/2\n",
            "625/625 [==============================] - 53s 85ms/step - loss: 0.3056 - accuracy: 0.8629 - val_loss: 0.2274 - val_accuracy: 0.9065\n",
            "Epoch 2/2\n",
            "625/625 [==============================] - 54s 87ms/step - loss: 0.1020 - accuracy: 0.9641 - val_loss: 0.2445 - val_accuracy: 0.9087\n"
          ]
        }
      ]
    },
    {
      "cell_type": "code",
      "source": [
        "cnn_pred = cnn_model.predict(padded_X_test)"
      ],
      "metadata": {
        "colab": {
          "base_uri": "https://localhost:8080/"
        },
        "id": "G_BIzBXw-0nE",
        "outputId": "2e4640e5-18cf-46f8-983f-1adc312b032d"
      },
      "execution_count": null,
      "outputs": [
        {
          "output_type": "stream",
          "name": "stdout",
          "text": [
            "313/313 [==============================] - 4s 11ms/step\n"
          ]
        }
      ]
    },
    {
      "cell_type": "code",
      "source": [],
      "metadata": {
        "id": "iYFOKhPunfsz"
      },
      "execution_count": null,
      "outputs": []
    },
    {
      "cell_type": "code",
      "source": [
        "\n",
        "\n",
        "\n",
        "lstm_model = models.Sequential()\n",
        "\n",
        "lstm_model.add(layers.Embedding(n_vocab, 250, input_length= max_length )  )\n",
        "\n",
        "#lstm_model.add(layers.Dropout(0.3))\n",
        "\n",
        "#model.add(layers.Bidirectional(layers.LSTM(128, return_sequences=True  )  )     )\n",
        "\n",
        "#model.add(layers.GlobalMaxPooling1D())\n",
        "\n",
        "lstm_model.add( layers.Bidirectional(layers.LSTM(100, return_sequences=True ))   )\n",
        "\n",
        "\n",
        "\n",
        "\n",
        "\n",
        "\n",
        "\n",
        "lstm_model.add(layers.GlobalMaxPooling1D())\n",
        "\n",
        "#lstm_model.add(layers.Dropout(0.35))\n",
        "\n",
        "lstm_model.add(layers.Dense(128, activation='relu'  ))\n",
        "#lstm_model.add(layers.Dropout(0.2))\n",
        "\n",
        "\n",
        "\n",
        "\n",
        "lstm_model.add(layers.Dense(1))\n",
        "lstm_model.add(Activation('sigmoid'))\n",
        "\n",
        "lstm_model.summary()\n",
        "\n",
        "\n"
      ],
      "metadata": {
        "colab": {
          "base_uri": "https://localhost:8080/"
        },
        "id": "Z8M4lDl5nf2p",
        "outputId": "f62994e1-67c3-400f-8470-3f4b5e14218e"
      },
      "execution_count": null,
      "outputs": [
        {
          "output_type": "stream",
          "name": "stdout",
          "text": [
            "Model: \"sequential_6\"\n",
            "_________________________________________________________________\n",
            " Layer (type)                Output Shape              Param #   \n",
            "=================================================================\n",
            " embedding_6 (Embedding)     (None, 1900, 250)         20000000  \n",
            "                                                                 \n",
            " bidirectional_2 (Bidirectio  (None, 1900, 200)        280800    \n",
            " nal)                                                            \n",
            "                                                                 \n",
            " global_max_pooling1d_6 (Glo  (None, 200)              0         \n",
            " balMaxPooling1D)                                                \n",
            "                                                                 \n",
            " dense_16 (Dense)            (None, 128)               25728     \n",
            "                                                                 \n",
            " dense_17 (Dense)            (None, 1)                 129       \n",
            "                                                                 \n",
            " activation_6 (Activation)   (None, 1)                 0         \n",
            "                                                                 \n",
            "=================================================================\n",
            "Total params: 20,306,657\n",
            "Trainable params: 20,306,657\n",
            "Non-trainable params: 0\n",
            "_________________________________________________________________\n"
          ]
        }
      ]
    },
    {
      "cell_type": "code",
      "source": [
        "\n",
        "\n",
        "\n",
        "lstm_model.compile(loss=tf.keras.losses.BinaryCrossentropy(),\n",
        "              optimizer=tf.keras.optimizers.Adam(0.001),\n",
        "              metrics=['accuracy'])\n",
        "\n",
        "\n",
        "\n"
      ],
      "metadata": {
        "id": "x0vsUxlfnf-u"
      },
      "execution_count": null,
      "outputs": []
    },
    {
      "cell_type": "code",
      "source": [
        "\n",
        "\n",
        "history =  lstm_model.fit(\n",
        " padded_X_train, y_train,\n",
        " epochs= 3,\n",
        " batch_size = 64,\n",
        " validation_data = (padded_X_test, y_test)\n",
        ")\n",
        "\n",
        "\n"
      ],
      "metadata": {
        "colab": {
          "base_uri": "https://localhost:8080/"
        },
        "id": "Go2Py6h8n7ap",
        "outputId": "c7cb8ea0-b631-45fa-ecc9-2ed81c3454f5"
      },
      "execution_count": null,
      "outputs": [
        {
          "output_type": "stream",
          "name": "stdout",
          "text": [
            "Epoch 1/2\n",
            "625/625 [==============================] - 144s 227ms/step - loss: 0.3083 - accuracy: 0.8588 - val_loss: 0.2241 - val_accuracy: 0.9106\n",
            "Epoch 2/2\n",
            "625/625 [==============================] - 142s 227ms/step - loss: 0.1252 - accuracy: 0.9557 - val_loss: 0.2678 - val_accuracy: 0.8980\n"
          ]
        }
      ]
    },
    {
      "cell_type": "code",
      "source": [
        "lstm_pred = lstm_model.predict(padded_X_test)"
      ],
      "metadata": {
        "colab": {
          "base_uri": "https://localhost:8080/"
        },
        "id": "ezaybqBmoESi",
        "outputId": "c0c019c5-b7a7-4fe6-c0a1-c0e77a0c3481"
      },
      "execution_count": null,
      "outputs": [
        {
          "output_type": "stream",
          "name": "stdout",
          "text": [
            "313/313 [==============================] - 19s 58ms/step\n"
          ]
        }
      ]
    },
    {
      "cell_type": "code",
      "source": [],
      "metadata": {
        "id": "uV-0Nu_QoOIz"
      },
      "execution_count": null,
      "outputs": []
    },
    {
      "cell_type": "code",
      "source": [
        "\n",
        "'''\n",
        "\n",
        "###################################################\n",
        "\n",
        "cnnlstm_model = models.Sequential()\n",
        "\n",
        "cnnlstm_model.add(layers.Embedding(n_vocab, 150, input_length= max_length )  )\n",
        "\n",
        "#cnnlstm_model.add(layers.Dropout(0.3))\n",
        "\n",
        "#model.add(layers.Bidirectional(layers.LSTM(128, return_sequences=True  )  )     )\n",
        "\n",
        "\n",
        "cnnlstm_model.add(\n",
        "    layers.Convolution1D(\n",
        "        filters=250,\n",
        "        kernel_size=3,\n",
        "        padding='valid',\n",
        "        activation='relu',\n",
        "        #subsample_length=1,\n",
        "        strides=1\n",
        "    )\n",
        ")\n",
        "\n",
        "\n",
        "#model.add(layers.Dropout(0.3))\n",
        "\n",
        "#model.add(layers.GlobalMaxPooling1D())\n",
        "\n",
        "cnnlstm_model.add( layers.Bidirectional(layers.LSTM(128, return_sequences=True ))   )\n",
        "\n",
        "\n",
        "\n",
        "\n",
        "\n",
        "\n",
        "\n",
        "cnnlstm_model.add(layers.GlobalMaxPooling1D())\n",
        "\n",
        "#cnnlstm_model.add(layers.Dropout(0.25))\n",
        "\n",
        "cnnlstm_model.add(layers.Dense(128, activation='relu'  ))\n",
        "#cnnlstm_model.add(layers.Dropout(0.2))\n",
        "\n",
        "\n",
        "\n",
        "\n",
        "cnnlstm_model.add(layers.Dense(1))\n",
        "cnnlstm_model.add(Activation('sigmoid'))\n",
        "\n",
        "cnnlstm_model.summary()\n",
        "\n",
        "\n",
        "'''\n",
        "\n"
      ],
      "metadata": {
        "colab": {
          "base_uri": "https://localhost:8080/"
        },
        "id": "cSjmzrrlyf1e",
        "outputId": "ad5ac38e-f78b-497b-ce21-deaaf91760d2"
      },
      "execution_count": null,
      "outputs": [
        {
          "output_type": "stream",
          "name": "stdout",
          "text": [
            "Model: \"sequential_7\"\n",
            "_________________________________________________________________\n",
            " Layer (type)                Output Shape              Param #   \n",
            "=================================================================\n",
            " embedding_7 (Embedding)     (None, 1900, 150)         12000000  \n",
            "                                                                 \n",
            " conv1d_3 (Conv1D)           (None, 1898, 250)         112750    \n",
            "                                                                 \n",
            " bidirectional_3 (Bidirectio  (None, 1898, 256)        388096    \n",
            " nal)                                                            \n",
            "                                                                 \n",
            " global_max_pooling1d_7 (Glo  (None, 256)              0         \n",
            " balMaxPooling1D)                                                \n",
            "                                                                 \n",
            " dense_18 (Dense)            (None, 128)               32896     \n",
            "                                                                 \n",
            " dense_19 (Dense)            (None, 1)                 129       \n",
            "                                                                 \n",
            " activation_7 (Activation)   (None, 1)                 0         \n",
            "                                                                 \n",
            "=================================================================\n",
            "Total params: 12,533,871\n",
            "Trainable params: 12,533,871\n",
            "Non-trainable params: 0\n",
            "_________________________________________________________________\n"
          ]
        }
      ]
    },
    {
      "cell_type": "code",
      "source": [
        "\n",
        "'''\n",
        "\n",
        "cnnlstm_model.compile(loss=tf.keras.losses.BinaryCrossentropy(),\n",
        "              optimizer=tf.keras.optimizers.Adam(0.001),\n",
        "              metrics=['accuracy'])\n",
        "\n",
        "\n",
        "'''\n"
      ],
      "metadata": {
        "id": "4d346ec5ygCD"
      },
      "execution_count": null,
      "outputs": []
    },
    {
      "cell_type": "code",
      "source": [
        "\n",
        "'''\n",
        "\n",
        "history =  cnnlstm_model.fit(\n",
        " padded_X_train, y_train,\n",
        " epochs= 2,\n",
        " batch_size = 64,\n",
        " validation_data = (padded_X_test, y_test)\n",
        ")\n",
        "\n",
        "\n",
        "'''\n"
      ],
      "metadata": {
        "colab": {
          "base_uri": "https://localhost:8080/"
        },
        "id": "WXqwiXqKzF5V",
        "outputId": "e5aa5193-3692-4828-ffe8-b1201a8f4cf0"
      },
      "execution_count": null,
      "outputs": [
        {
          "output_type": "stream",
          "name": "stdout",
          "text": [
            "625/625 [==============================] - 179s 281ms/step - loss: 0.3412 - accuracy: 0.8377 - val_loss: 0.2425 - val_accuracy: 0.9052\n"
          ]
        }
      ]
    },
    {
      "cell_type": "code",
      "source": [
        "#cnnlstm_pred = lstm_model.predict(padded_X_test)"
      ],
      "metadata": {
        "colab": {
          "base_uri": "https://localhost:8080/"
        },
        "id": "xTjqzUpZzGB0",
        "outputId": "096b203e-1042-41f6-d619-f1dae608a221"
      },
      "execution_count": null,
      "outputs": [
        {
          "output_type": "stream",
          "name": "stdout",
          "text": [
            "313/313 [==============================] - 18s 58ms/step\n"
          ]
        }
      ]
    },
    {
      "cell_type": "code",
      "source": [],
      "metadata": {
        "id": "S9faNCHWzGH6"
      },
      "execution_count": null,
      "outputs": []
    },
    {
      "cell_type": "code",
      "source": [
        "fin_pred_prob = cnn_pred + emb_pred + lstm_pred #+ cnnlstm_pred"
      ],
      "metadata": {
        "id": "41p0nOmj_GJT"
      },
      "execution_count": null,
      "outputs": []
    },
    {
      "cell_type": "code",
      "source": [
        "fin_pred_prob[:10]"
      ],
      "metadata": {
        "colab": {
          "base_uri": "https://localhost:8080/"
        },
        "id": "EqcxNzFQ_PHZ",
        "outputId": "8c304174-7bb3-4ed4-8ba5-1ba2d62bf502"
      },
      "execution_count": null,
      "outputs": [
        {
          "output_type": "execute_result",
          "data": {
            "text/plain": [
              "array([[3.8898664 ],\n",
              "       [3.30316   ],\n",
              "       [2.4915934 ],\n",
              "       [1.8525631 ],\n",
              "       [2.8364022 ],\n",
              "       [0.01508243],\n",
              "       [3.9346085 ],\n",
              "       [2.8640962 ],\n",
              "       [0.37665188],\n",
              "       [3.8310795 ]], dtype=float32)"
            ]
          },
          "metadata": {},
          "execution_count": 71
        }
      ]
    },
    {
      "cell_type": "code",
      "source": [
        "pre_class = [ 1 if a>=1.5 else 0  for a in fin_pred_prob ]"
      ],
      "metadata": {
        "id": "QpAyFKHJ_YcW"
      },
      "execution_count": null,
      "outputs": []
    },
    {
      "cell_type": "code",
      "source": [
        "pre_class[:10]"
      ],
      "metadata": {
        "colab": {
          "base_uri": "https://localhost:8080/"
        },
        "id": "hQysAbjI_oUc",
        "outputId": "bf62117c-8d24-4fef-d6ab-7e27eed5eaa3"
      },
      "execution_count": null,
      "outputs": [
        {
          "output_type": "execute_result",
          "data": {
            "text/plain": [
              "[1, 1, 1, 0, 1, 0, 1, 1, 0, 1]"
            ]
          },
          "metadata": {},
          "execution_count": 73
        }
      ]
    },
    {
      "cell_type": "code",
      "source": [
        "from sklearn.metrics import accuracy_score\n",
        "\n",
        "accuracy_score(y_test, pre_class)\n"
      ],
      "metadata": {
        "colab": {
          "base_uri": "https://localhost:8080/"
        },
        "id": "XFE2XzD3_uUQ",
        "outputId": "58905d7a-2dc1-4bdb-bc9e-a727e9b26e3d"
      },
      "execution_count": null,
      "outputs": [
        {
          "output_type": "execute_result",
          "data": {
            "text/plain": [
              "0.9186"
            ]
          },
          "metadata": {},
          "execution_count": 74
        }
      ]
    }
  ]
}